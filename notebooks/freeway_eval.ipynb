{
 "cells": [
  {
   "cell_type": "code",
   "execution_count": 1,
   "id": "2c00e36b-06c4-44ce-a5a7-4f71a4ffa966",
   "metadata": {},
   "outputs": [],
   "source": [
    "import os\n",
    "\n",
    "import gym\n",
    "import matplotlib.pyplot as plt\n",
    "import numpy as np\n",
    "import torch\n",
    "\n",
    "from dreamerv2.training.config import MinAtarConfig\n",
    "from dreamerv2.training.evaluator import Evaluator\n",
    "from dreamerv2.utils.wrapper import GymMinAtar, OneHotAction, freewayPOMDP\n",
    "\n",
    "env_name = \"freeway\"\n",
    "exp_id = \"0_pomdp\"\n",
    "device = \"cuda:0\"\n",
    "\n",
    "ACTIONS = {\n",
    "    0: \"STAY\",\n",
    "    1: \"UP\",\n",
    "    2: \"DOWN\",\n",
    "}\n",
    "\n",
    "env = freewayPOMDP(OneHotAction(GymMinAtar(env_name)))\n",
    "env.env.env.seed(42)\n",
    "torch.manual_seed(42)\n",
    "\n",
    "result_dir = os.path.join(\"../results_official\", f\"{env_name}_{exp_id}\")\n",
    "model_dir = os.path.join(result_dir, \"models\")\n",
    "f = \"models_best.pth\"\n",
    "\n",
    "config = MinAtarConfig(\n",
    "    env=env_name,\n",
    "    obs_shape=env.observation_space.shape,\n",
    "    action_size=env.action_space.shape[0],\n",
    "    obs_dtype=bool,\n",
    "    action_dtype=np.float32,\n",
    "    model_dir=model_dir,\n",
    "    eval_episode=10,\n",
    "    eval_render=False,\n",
    ")"
   ]
  },
  {
   "cell_type": "code",
   "execution_count": 2,
   "id": "ca5a7d7c-321b-48ec-87bf-d136169a108d",
   "metadata": {},
   "outputs": [
    {
     "name": "stdout",
     "output_type": "stream",
     "text": [
      "average evaluation score for model at ../results_official/freeway_0_pomdp/models/models_best.pth = 14.5\n",
      "mean evaluation score: 14.5\n"
     ]
    }
   ],
   "source": [
    "evaluator = Evaluator(config, device)\n",
    "eval_score = evaluator.eval_saved_agent(env, os.path.join(model_dir, f))\n",
    "print(\"mean evaluation score:\", eval_score)"
   ]
  }
 ],
 "metadata": {
  "kernelspec": {
   "display_name": "Python 3",
   "language": "python",
   "name": "python3"
  },
  "language_info": {
   "codemirror_mode": {
    "name": "ipython",
    "version": 3
   },
   "file_extension": ".py",
   "mimetype": "text/x-python",
   "name": "python",
   "nbconvert_exporter": "python",
   "pygments_lexer": "ipython3",
   "version": "3.9.5"
  }
 },
 "nbformat": 4,
 "nbformat_minor": 5
}
